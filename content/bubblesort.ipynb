{
 "cells": [
  {
   "cell_type": "code",
   "execution_count": 1,
   "id": "260ca73b",
   "metadata": {},
   "outputs": [],
   "source": [
    "from mapcode.mapcode import mapcode"
   ]
  },
  {
   "cell_type": "code",
   "execution_count": 2,
   "id": "676e6987",
   "metadata": {},
   "outputs": [],
   "source": [
    "def swap(a,i,j):\n",
    "    (a[i], a[j]) = (a[j], a[i])\n",
    "    return a\n",
    "\n",
    "def order(a, i):\n",
    "    if (a[i] > a[i+1]):\n",
    "        return swap(a,i,i+1)\n",
    "    else:\n",
    "        return a\n",
    "\n",
    "def rho(inst):\n",
    "    (a, b) = inst\n",
    "    return (a, b, 0)\n",
    "\n",
    "def pi(x):\n",
    "    (a, b, i) = x\n",
    "    return a\n",
    "\n",
    "def F(x):\n",
    "    (a, b, i) = x\n",
    "    if (i >= b-1):\n",
    "        return x\n",
    "    else:\n",
    "        return (order(a, i), b, i+1)\n",
    "\n",
    "def bubble(a, b):\n",
    "    return mapcode(rho, F, pi)((a,b))"
   ]
  },
  {
   "cell_type": "code",
   "execution_count": null,
   "id": "eddf733d",
   "metadata": {},
   "outputs": [],
   "source": []
  }
 ],
 "metadata": {
  "kernelspec": {
   "display_name": "Python 3",
   "language": "python",
   "name": "python3"
  },
  "language_info": {
   "codemirror_mode": {
    "name": "ipython",
    "version": 3
   },
   "file_extension": ".py",
   "mimetype": "text/x-python",
   "name": "python",
   "nbconvert_exporter": "python",
   "pygments_lexer": "ipython3",
   "version": "3.12.3"
  }
 },
 "nbformat": 4,
 "nbformat_minor": 5
}
