{
 "cells": [
  {
   "cell_type": "code",
   "execution_count": null,
   "id": "260ca73b",
   "metadata": {},
   "outputs": [],
   "source": [
    "from mapcode.mapcode import mapcode"
   ]
  },
  {
   "cell_type": "code",
   "execution_count": null,
   "id": "676e6987",
   "metadata": {},
   "outputs": [],
   "source": [
    "def swap(a,i,j):\n",
    "    (a[i], a[j]) = (a[j], a[i])\n",
    "    return a\n",
    "\n",
    "def order(a, i):\n",
    "    if (a[i] > a[i+1]):\n",
    "        return swap(a,i,i+1)\n",
    "    else:\n",
    "        return a\n",
    "\n",
    "def rho_bubble(inst):\n",
    "    (a, b) = inst\n",
    "    return (a, b, 0)\n",
    "\n",
    "def pi_bubble(x):\n",
    "    (a, b, i) = x\n",
    "    return a\n",
    "\n",
    "def F_bubble(x):\n",
    "    (a, b, i) = x\n",
    "    if (i >= b-1):\n",
    "        return x\n",
    "    else:\n",
    "        return (order(a, i), b, i+1)\n",
    "\n",
    "def bubble(a, b):\n",
    "    return mapcode(rho_bubble, F_bubble, pi_bubble)((a,b))"
   ]
  },
  {
   "cell_type": "code",
   "execution_count": null,
   "id": "eddf733d",
   "metadata": {},
   "outputs": [],
   "source": [
    "def rho_bubblesort(a):\n",
    "    return (a, len(a))\n",
    "\n",
    "def pi_bubblesort(x):\n",
    "    (a, b) = x\n",
    "    return a\n",
    "\n",
    "def F_bubblesort(x):\n",
    "    (a, b) = x\n",
    "    if (b <= 1):\n",
    "        return x\n",
    "    else:\n",
    "        return (bubble(a, b), b-1)\n",
    "\n",
    "bubblesort =  mapcode(rho_bubblesort, F_bubblesort, pi_bubblesort)"
   ]
  },
  {
   "cell_type": "code",
   "execution_count": null,
   "id": "98a40d0c",
   "metadata": {},
   "outputs": [],
   "source": [
    "assert bubble([],0) == []\n",
    "assert bubble([3],1) == [3]\n",
    "assert bubble([3, 4],2) == [3, 4]\n",
    "assert bubble([4, 3],2) == [3, 4]\n",
    "assert bubble([4, 3],1) == [4, 3]\n",
    "assert bubble([5, 4, 3],3) == [4, 3, 5]\n",
    "assert bubble([5, 4, 3],2) == [4, 5, 3]"
   ]
  },
  {
   "cell_type": "code",
   "execution_count": null,
   "id": "a61a7581",
   "metadata": {},
   "outputs": [],
   "source": [
    "assert bubblesort([]) == []\n",
    "assert bubblesort([3]) == [3]\n",
    "assert bubblesort([3, 4]) == [3, 4]\n",
    "assert bubblesort([4, 3]) == [3, 4]\n",
    "assert bubblesort([5, 4, 3]) == [3, 4, 5]\n",
    "assert bubblesort([5, 3, 4]) == [3, 4, 5]"
   ]
  },
  {
   "cell_type": "code",
   "execution_count": null,
   "id": "ba181b00",
   "metadata": {},
   "outputs": [],
   "source": []
  }
 ],
 "metadata": {
  "kernelspec": {
   "display_name": "Python 3",
   "language": "python",
   "name": "python3"
  },
  "language_info": {
   "codemirror_mode": {
    "name": "ipython",
    "version": 3
   },
   "file_extension": ".py",
   "mimetype": "text/x-python",
   "name": "python",
   "nbconvert_exporter": "python",
   "pygments_lexer": "ipython3",
   "version": "3.12.3"
  }
 },
 "nbformat": 4,
 "nbformat_minor": 5
}
