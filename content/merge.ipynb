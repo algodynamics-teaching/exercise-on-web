{
  "metadata": {
    "kernelspec": {
      "name": "python",
      "display_name": "Python (Pyodide)",
      "language": "python"
    },
    "language_info": {
      "codemirror_mode": {
        "name": "python",
        "version": 3
      },
      "file_extension": ".py",
      "mimetype": "text/x-python",
      "name": "python",
      "nbconvert_exporter": "python",
      "pygments_lexer": "ipython3",
      "version": "3.8"
    },
    "colab": {
      "provenance": []
    }
  },
  "nbformat_minor": 4,
  "nbformat": 4,
  "cells": [
    {
      "cell_type": "markdown",
      "source": "# Merge Sort with Merge as a primitive",
      "metadata": {
        "id": "Qu_16GrhlvLe"
      }
    },
    {
      "cell_type": "markdown",
      "source": "## Merge",
      "metadata": {
        "id": "-yPnbMf_l1rI"
      }
    },
    {
      "cell_type": "code",
      "source": "from mapcode.mapcode import mapcode\nfrom collections import deque\nfrom functools import lru_cache\nimport copy",
      "metadata": {
        "id": "aquMlgSyvC8n",
        "trusted": true
      },
      "outputs": [],
      "execution_count": null
    },
    {
      "cell_type": "markdown",
      "source": "### Recursive Merge",
      "metadata": {
        "id": "steHOc8_qvEi"
      }
    },
    {
      "cell_type": "code",
      "source": "def merge_recursive(a, b):\n    if not a:\n        return b\n    if not b:\n        return a\n    if a[0] < b[0]:\n        return [a[0]] + merge_recursive(a[1:], b)\n    else:\n        return [b[0]] + merge_recursive(a, b[1:])",
      "metadata": {
        "id": "o4PIfm89lmrx",
        "trusted": true
      },
      "outputs": [],
      "execution_count": null
    },
    {
      "cell_type": "markdown",
      "source": "### Mapcode Merge",
      "metadata": {
        "id": "GV2piSonqy8n"
      }
    },
    {
      "cell_type": "code",
      "source": "def rho_mapcode(inst):\n    a, b = inst\n    return [a, b, []]\n\n\ndef next_mapcode(x):\n    a, b, c = x\n    if not a and not b:\n        return x\n    if not a:\n        return [[], [], list(reversed(b)) + c]\n    if not b:\n        return [[], [], list(reversed(a)) + c]\n    if a[0] < b[0]:\n        return [a[1:], b, [a[0]] + c]\n    else:\n        return [a, b[1:], [b[0]] + c]\n\n\ndef pi_mapcode(x):\n    a, b, c = x\n    return list(reversed(c))\n\n\ndef merge_mapcode(a, b):\n    return mapcode(rho_mapcode, next_mapcode, pi_mapcode)((a, b))\n    def rho_mapcode(inst):\n        a, b = inst\n    return [a, b, []]\n\n\ndef next_mapcode(x):\n    a, b, c = x\n    if not a and not b:\n        return x\n    if not a:\n        return [[], [], list(reversed(b)) + c]\n    if not b:\n        return [[], [], list(reversed(a)) + c]\n    if a[0] < b[0]:\n        return [a[1:], b, [a[0]] + c]\n    else:\n        return [a, b[1:], [b[0]] + c]\n\n\ndef pi_mapcode(x):\n    a, b, c = x\n    return list(reversed(c))\n\n\ndef merge_mapcode(a, b):\n    return mapcode(rho_mapcode, next_mapcode, pi_mapcode)((a, b))",
      "metadata": {
        "id": "j0S7fWx8q4pI",
        "trusted": true
      },
      "outputs": [],
      "execution_count": null
    },
    {
      "cell_type": "markdown",
      "source": "### DP-Style Merge",
      "metadata": {
        "id": "W4K5Rtnoq_FV"
      }
    },
    {
      "cell_type": "code",
      "source": "def scons(x, xs):\n    if not xs:\n        return [x]\n    return [x] + xs\n\n\ndef bot():\n    return None\n\n\ndef rho_dp(inst):\n    a, b = inst\n    return [[(a, b)], {}]\n\n\ndef next_dp(state):\n    pending, fs = state\n    if not pending:\n        return state\n    (a, b), *rest = pending\n    key = (tuple(a), tuple(b))\n    if key in fs:\n        return [rest, fs]\n    if not a:\n        fs[key] = lambda x: b\n        return [rest, fs]\n    if not b:\n        fs[key] = lambda x: a\n        return [rest, fs]\n    if a[0] < b[0]:\n        ta = a[1:]\n        updated_key = (tuple(ta), tuple(b))\n        fs[key] = lambda x: scons(a[0], x[updated_key])\n        return [[(ta, b)] + rest, fs]\n    else:\n        tb = b[1:]\n        updated_key = (tuple(a), tuple(tb))\n        fs[key] = lambda x: scons(b[0], x[updated_key])\n        return [[(a, tb)] + rest, fs]\n\n\ndef pi_dp(state):\n    _, fs = state\n    return fs\n\n\ndef fixed_point(f, x0):\n    x = x0\n    while True:\n        x1 = f(x)\n        if x1 == x:\n            return x\n        x = x1\n\n\ndef apply_fs(fs):\n    def apply(x):\n        return {k: f(x) for k, f in fs.items()}\n\n    return apply\n\n\ndef bot_hash(keys):\n    return {k: bot() for k in keys}\n\n\ndef merge_dp(a, b):\n    # Generate function set\n    state = rho_dp((a, b))\n    while True:\n        new_state = next_dp(state)\n        if new_state == state:\n            break\n        state = new_state\n    fs = pi_dp(state)\n\n    keys = fs.keys()\n    x0 = bot_hash(keys)\n    G = apply_fs(fs)\n    G_star = fixed_point(G, x0)\n    key = (tuple(a), tuple(b))\n    return G_star[key]",
      "metadata": {
        "id": "3UKwHPYZrIGb",
        "trusted": true
      },
      "outputs": [],
      "execution_count": null
    },
    {
      "cell_type": "code",
      "source": "merge = merge_mapcode",
      "metadata": {
        "id": "WY6T1WjurQE2",
        "trusted": true
      },
      "outputs": [],
      "execution_count": null
    },
    {
      "cell_type": "code",
      "source": "def test_merge(merge_fn):\n    assert merge_fn([], []) == []\n    assert merge_fn([], [2, 3]) == [2, 3]\n    assert merge_fn([2, 3], []) == [2, 3]\n    assert merge_fn([2, 4], [1, 3]) == [1, 2, 3, 4]\n\n\n# === Run Tests ===\n\nprint(\"Testing recursive merge...\", end=\" \")\ntest_merge(merge_recursive)\nprint(\"Passed!\")\n\n\nprint(\"Testing mapcode merge...\", end=\" \")\ntest_merge(merge_mapcode)\nprint(\"Passed!\")\n\nprint(\"Testing dp merge...\", end=\" \")\ntest_merge(merge_dp)\nprint(\"Passed!\")",
      "metadata": {
        "id": "0UxuTfdF1mbp",
        "trusted": true
      },
      "outputs": [],
      "execution_count": null
    },
    {
      "cell_type": "code",
      "source": "",
      "metadata": {
        "trusted": true
      },
      "outputs": [],
      "execution_count": null
    }
  ]
}