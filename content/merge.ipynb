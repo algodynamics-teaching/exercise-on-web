{
  "nbformat": 4,
  "nbformat_minor": 0,
  "metadata": {
    "colab": {
      "provenance": []
    },
    "kernelspec": {
      "name": "python3",
      "display_name": "Python 3"
    },
    "language_info": {
      "name": "python"
    }
  },
  "cells": [
    {
      "cell_type": "markdown",
      "source": [
        "# Merge Sort with Merge as a primitive"
      ],
      "metadata": {
        "id": "Qu_16GrhlvLe"
      }
    },
    {
      "cell_type": "markdown",
      "source": [
        "## Merge"
      ],
      "metadata": {
        "id": "-yPnbMf_l1rI"
      }
    },
    {
      "cell_type": "code",
      "source": [
        "from mapcode.mapcode import mapcode\n",
        "from collections import deque\n",
        "from functools import lru_cache\n",
        "import copy"
      ],
      "metadata": {
        "id": "aquMlgSyvC8n"
      },
      "execution_count": null,
      "outputs": []
    },
    {
      "cell_type": "markdown",
      "source": [
        "### Recursive Merge"
      ],
      "metadata": {
        "id": "steHOc8_qvEi"
      }
    },
    {
      "cell_type": "code",
      "execution_count": null,
      "metadata": {
        "id": "o4PIfm89lmrx"
      },
      "outputs": [],
      "source": [
        "def merge_recursive(a, b):\n",
        "    if not a:\n",
        "        return b\n",
        "    if not b:\n",
        "        return a\n",
        "    if a[0] < b[0]:\n",
        "        return [a[0]] + merge_recursive(a[1:], b)\n",
        "    else:\n",
        "        return [b[0]] + merge_recursive(a, b[1:])"
      ]
    },
    {
      "cell_type": "markdown",
      "source": [
        "### Mapcode Merge"
      ],
      "metadata": {
        "id": "GV2piSonqy8n"
      }
    },
    {
      "cell_type": "code",
      "source": [
        "def rho_mapcode(inst):\n",
        "    a, b = inst\n",
        "    return [a, b, []]\n",
        "\n",
        "\n",
        "def next_mapcode(x):\n",
        "    a, b, c = x\n",
        "    if not a and not b:\n",
        "        return x\n",
        "    if not a:\n",
        "        return [[], [], list(reversed(b)) + c]\n",
        "    if not b:\n",
        "        return [[], [], list(reversed(a)) + c]\n",
        "    if a[0] < b[0]:\n",
        "        return [a[1:], b, [a[0]] + c]\n",
        "    else:\n",
        "        return [a, b[1:], [b[0]] + c]\n",
        "\n",
        "\n",
        "def pi_mapcode(x):\n",
        "    a, b, c = x\n",
        "    return list(reversed(c))\n",
        "\n",
        "\n",
        "def merge_mapcode(a, b):\n",
        "    return mapcode(rho_mapcode, next_mapcode, pi_mapcode)((a, b))def rho_mapcode(inst):\n",
        "    a, b = inst\n",
        "    return [a, b, []]\n",
        "\n",
        "\n",
        "def next_mapcode(x):\n",
        "    a, b, c = x\n",
        "    if not a and not b:\n",
        "        return x\n",
        "    if not a:\n",
        "        return [[], [], list(reversed(b)) + c]\n",
        "    if not b:\n",
        "        return [[], [], list(reversed(a)) + c]\n",
        "    if a[0] < b[0]:\n",
        "        return [a[1:], b, [a[0]] + c]\n",
        "    else:\n",
        "        return [a, b[1:], [b[0]] + c]\n",
        "\n",
        "\n",
        "def pi_mapcode(x):\n",
        "    a, b, c = x\n",
        "    return list(reversed(c))\n",
        "\n",
        "\n",
        "def merge_mapcode(a, b):\n",
        "    return mapcode(rho_mapcode, next_mapcode, pi_mapcode)((a, b))"
      ],
      "metadata": {
        "id": "j0S7fWx8q4pI"
      },
      "execution_count": null,
      "outputs": []
    },
    {
      "cell_type": "markdown",
      "source": [
        "### DP-Style Merge"
      ],
      "metadata": {
        "id": "W4K5Rtnoq_FV"
      }
    },
    {
      "cell_type": "code",
      "source": [
        "def scons(x, xs):\n",
        "    if not xs:\n",
        "        return [x]\n",
        "    return [x] + xs\n",
        "\n",
        "\n",
        "def bot():\n",
        "    return None\n",
        "\n",
        "\n",
        "def rho_dp(inst):\n",
        "    a, b = inst\n",
        "    return [[(a, b)], {}]\n",
        "\n",
        "\n",
        "def next_dp(state):\n",
        "    pending, fs = state\n",
        "    if not pending:\n",
        "        return state\n",
        "    (a, b), *rest = pending\n",
        "    key = (tuple(a), tuple(b))\n",
        "    if key in fs:\n",
        "        return [rest, fs]\n",
        "    if not a:\n",
        "        fs[key] = lambda x: b\n",
        "        return [rest, fs]\n",
        "    if not b:\n",
        "        fs[key] = lambda x: a\n",
        "        return [rest, fs]\n",
        "    if a[0] < b[0]:\n",
        "        ta = a[1:]\n",
        "        updated_key = (tuple(ta), tuple(b))\n",
        "        fs[key] = lambda x: scons(a[0], x[updated_key])\n",
        "        return [[(ta, b)] + rest, fs]\n",
        "    else:\n",
        "        tb = b[1:]\n",
        "        updated_key = (tuple(a), tuple(tb))\n",
        "        fs[key] = lambda x: scons(b[0], x[updated_key])\n",
        "        return [[(a, tb)] + rest, fs]\n",
        "\n",
        "\n",
        "def pi_dp(state):\n",
        "    _, fs = state\n",
        "    return fs\n",
        "\n",
        "\n",
        "def fixed_point(f, x0):\n",
        "    x = x0\n",
        "    while True:\n",
        "        x1 = f(x)\n",
        "        if x1 == x:\n",
        "            return x\n",
        "        x = x1\n",
        "\n",
        "\n",
        "def apply_fs(fs):\n",
        "    def apply(x):\n",
        "        return {k: f(x) for k, f in fs.items()}\n",
        "\n",
        "    return apply\n",
        "\n",
        "\n",
        "def bot_hash(keys):\n",
        "    return {k: bot() for k in keys}\n",
        "\n",
        "\n",
        "def merge_dp(a, b):\n",
        "    # Generate function set\n",
        "    state = rho_dp((a, b))\n",
        "    while True:\n",
        "        new_state = next_dp(state)\n",
        "        if new_state == state:\n",
        "            break\n",
        "        state = new_state\n",
        "    fs = pi_dp(state)\n",
        "\n",
        "    keys = fs.keys()\n",
        "    x0 = bot_hash(keys)\n",
        "    G = apply_fs(fs)\n",
        "    G_star = fixed_point(G, x0)\n",
        "    key = (tuple(a), tuple(b))\n",
        "    return G_star[key]"
      ],
      "metadata": {
        "id": "3UKwHPYZrIGb"
      },
      "execution_count": null,
      "outputs": []
    },
    {
      "cell_type": "code",
      "source": [
        "merge = merge_mapcode"
      ],
      "metadata": {
        "id": "WY6T1WjurQE2"
      },
      "execution_count": null,
      "outputs": []
    }
  ]
}