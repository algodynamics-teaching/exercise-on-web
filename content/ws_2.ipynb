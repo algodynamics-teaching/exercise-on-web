{
 "cells": [
  {
   "cell_type": "markdown",
   "metadata": {
    "id": "9_G04RftHYW4"
   },
   "source": [
    "# Discrete flows for different F's and x's\n",
    "\n",
    "In this activity we would be providing the F's, feel free to choose different possible combinations of F's and x's. This notebook aims to deepen your understanding on Discrete Flows."
   ]
  },
  {
   "cell_type": "code",
   "execution_count": null,
   "metadata": {
    "id": "K9K4ANfaI96Q"
   },
   "outputs": [],
   "source": [
    "def loop (F,x):\n",
    "  while (x != F(x)) :\n",
    "    print(x)\n",
    "    x = F(x)\n",
    "  print(x, end=\"\\n\\n\")\n",
    "  return x"
   ]
  },
  {
   "cell_type": "markdown",
   "metadata": {
    "id": "_7iILnMNOjbH"
   },
   "source": [
    "## Identity Function\n",
    "This function takes a number n as input and it returns the same as output.\n",
    "\n",
    "  F(n) = n for all numbers."
   ]
  },
  {
   "cell_type": "code",
   "execution_count": null,
   "metadata": {
    "id": "iAH4xfRGKIH5"
   },
   "outputs": [],
   "source": [
    "def identity(n):\n",
    "  return n"
   ]
  },
  {
   "cell_type": "markdown",
   "metadata": {
    "id": "E_Qk4Wk3O_u1"
   },
   "source": [
    "## Successor\n",
    "This function takes a non-negative integer n as input and returns 0 if n = 0 , returns n+1 otherwise.\n",
    "\n",
    "F(n) = n + 1 , if n ≥ 0"
   ]
  },
  {
   "cell_type": "code",
   "execution_count": null,
   "metadata": {
    "id": "lZJcDPgFMfTJ"
   },
   "outputs": [],
   "source": [
    "def successor(n):\n",
    "  if n > 0:\n",
    "    return n+1\n",
    "  else:\n",
    "    raise Exception(\"Input must be a non-negative integer\")"
   ]
  },
  {
   "cell_type": "markdown",
   "metadata": {
    "id": "XzYPeTVsPhys"
   },
   "source": [
    "## Predecessor\n",
    "This function takes a non-negative integer n as input and returns 0 if n = 0 , returns n-1 otherwise.\n",
    "\n",
    "  \\begin{equation*}\n",
    "      F(n) = \\begin{cases}\n",
    "      n & \\text{if }n=0 \\\\\n",
    "      n - 1 & \\text{if } n > 0\n",
    "      \\end{cases}\n",
    "  \\end{equation*}"
   ]
  },
  {
   "cell_type": "code",
   "execution_count": null,
   "metadata": {
    "id": "RcR9eUqzMuuJ"
   },
   "outputs": [],
   "source": [
    "def predecessor(n):\n",
    "  if n > 0:\n",
    "    return n-1\n",
    "  elif n == 0:\n",
    "    return 0\n",
    "  else:\n",
    "    raise Exception(\"Input must be a non-negative integer\")"
   ]
  },
  {
   "cell_type": "markdown",
   "metadata": {
    "id": "wLfm8oYMQA9L"
   },
   "source": [
    "## Collatz\n",
    "This function takes a positive integer n as input, return n/2 if n mod 2 = 0 , 3n+1 otherwise.\n",
    "\n",
    "  \\begin{equation*}\n",
    "    F(n) = \\begin{cases}\n",
    "    n/2 & \\text{if n is even} \\\\\n",
    "    3n + 1 & \\text{if n is odd} \\\\\n",
    "    \\end{cases}\n",
    "  \\end{equation*}"
   ]
  },
  {
   "cell_type": "code",
   "execution_count": null,
   "metadata": {
    "id": "nCoSKS1SM4xk"
   },
   "outputs": [],
   "source": [
    "def collatz(n):\n",
    "  r = n % 2\n",
    "  if n <= 0:\n",
    "    raise Exception(\"Input must be a positive integer\")\n",
    "  elif r == 0:\n",
    "    return n/2\n",
    "  else:\n",
    "    return 3*n+1"
   ]
  },
  {
   "cell_type": "code",
   "execution_count": null,
   "metadata": {
    "id": "v-6YWk9yNQPw"
   },
   "outputs": [],
   "source": [
    "def F(n): #Try your own example\n",
    "  return n"
   ]
  },
  {
   "cell_type": "code",
   "execution_count": null,
   "metadata": {
    "id": "g2WZsY0XNaJV"
   },
   "outputs": [],
   "source": [
    "# Cell for calling the functions\n",
    "loop(predecessor, 10)\n"
   ]
  }
 ],
 "metadata": {
  "colab": {
   "provenance": []
  },
  "kernelspec": {
   "display_name": "Python 3",
   "name": "python3"
  },
  "language_info": {
   "name": "python"
  }
 },
 "nbformat": 4,
 "nbformat_minor": 0
}
