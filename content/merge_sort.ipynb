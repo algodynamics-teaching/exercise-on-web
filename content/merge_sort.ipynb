{
  "metadata": {
    "kernelspec": {
      "name": "python",
      "display_name": "Python (Pyodide)",
      "language": "python"
    },
    "language_info": {
      "codemirror_mode": {
        "name": "python",
        "version": 3
      },
      "file_extension": ".py",
      "mimetype": "text/x-python",
      "name": "python",
      "nbconvert_exporter": "python",
      "pygments_lexer": "ipython3",
      "version": "3.8"
    },
    "colab": {
      "provenance": []
    }
  },
  "nbformat_minor": 4,
  "nbformat": 4,
  "cells": [
    {
      "cell_type": "markdown",
      "source": "# Mergesort\n\n```\n> ;;; p(4 1 3 2) -> \\\\\n> ;;; p(4 1) p(3 2) m -> \\\\\n> ;;; p(4) p(1) m p(3 2) m -> \\\\\n> ;;; s(4) s(1) m p(3 2) m -> \\\\\n> ;;; s(1 4) p(3 2) m -> \\\\\n> ;;; s(1 4) p(3) p(2) m m -> \\\\\n> ;;; s(1 4) s(3) s(2) m m -> \\\\\n> ;;; s(1 4) s(2 3) m -> \\\\\n> ;;; s(1 2 3 4) \\\\\n>\n>\n> ;;; The state of the system consists of a list ls and an index into the \\\\\n> ;;; list.  The elements of the list are either tagged as problems (p) \\\\\n> ;;; solutions (s) or the symbol m (to suggest a merge). \\\\\n> ;;; The program map locates a redex (a tagged sublist or 'm) and \\\\\n> ;;; reduces the list based on the following rules: \\\\\n>\n> ;;; reduce-split:  [(... (p . seq) ...), i] => \\\\\n> ;;;                      ^i\n> ;;; [( ... (p . seq1) (p . seq2) m ....), i] \\\\\n> ;;;        ^i\n>\n> ;;; reduce-promote: [(... (p n) ....), i] => \\\\\n> ;;;                       ^i\n> ;;; [(... (s n) ...), i+1] \\\\\n>\n>\n> ;;; reduce-merge: [(... (s . seq1) (s . seq2) m ...), i] => \\\\\n> ;;;                                           ^i\n> ;;; [(... (s . (merge seq1 seq2)) ....), i-1] \\\\\n>\n>\n> ;;; [((p 4 1 3 2)), 0] ->split \\\\\n> ;;; [((p 4 1) (p 3 2) m), 0] ->split \\\\\n> ;;; [((p 4) (p 1) m  (p 3 2) m), 0] ->promote \\\\\n> ;;; [((s 4) (p 1) m  (p 3 2) m), 1] ->promote \\\\\n> ;;; [((s 4) (s 1) m  (p 3 2) m), 2] ->merge \\\\\n> ;;; [((s 1 4) (p 3 2) m), 1] ->split \\\\\n> ;;; [((s 1 4) (p 3) (p 2) m m), 1] ->promote \\\\\n> ;;; [((s 1 4) (s 3) (p 3) m m), 2] ->promote \\\\\n> ;;; [((s 1 4) (s 3) (s 2) m m), 3] ->merge \\\\\n> ;;; [((s 1 4) (s 1 3) m), 2] ->merge \\\\\n> ;;; [((s 1 2 3 4)) 1] fixed point \\\\\n```",
      "metadata": {
        "id": "B5IbsDA7tksp"
      }
    },
    {
      "cell_type": "code",
      "source": "from mapcode.mapcode import mapcode\nfrom merge import merge\nimport math\nfrom functools import reduce\nfrom collections import deque\nfrom typing import List, Tuple, Any, Callable, Dict",
      "metadata": {
        "id": "e-8IsNH7rgIM",
        "trusted": true
      },
      "outputs": [],
      "execution_count": null
    },
    {
      "cell_type": "markdown",
      "source": "## Utility Functions",
      "metadata": {
        "id": "NUF_J-irwL5Y"
      }
    },
    {
      "cell_type": "code",
      "source": "def split_half(lst: List[Any]) -> Tuple[List[Any], List[Any]]:\n    \"\"\"Split list into two halves.\"\"\"\n    mid = len(lst) // 2\n    return lst[:mid], lst[mid:]\n\n\nPROBLEM_TAG = \"p\"\nSORTED_TAG = \"s\"\nMERGE_TAG = \"m\"\n\n\ndef is_problem(p):\n    return isinstance(p, list) and p and p[0] == PROBLEM_TAG\n\n\ndef problem_list(p):\n    return p[1:]\n\n\ndef problem(ls):\n    return [PROBLEM_TAG] + ls\n\n\ndef is_sorted(s):\n    return isinstance(s, list) and s and s[0] == SORTED_TAG\n\n\ndef sorted_list(s):\n    return s[1:]\n\n\ndef sorted_tag(ls):\n    return [SORTED_TAG] + ls\n\n\nassert is_problem(problem([3, 1, 2]))\nassert is_problem(problem([]))\nassert is_problem(problem([4]))\nassert not is_problem([3, 1, 2])\nassert is_sorted(sorted_tag([3, 1, 2]))\nassert is_sorted(sorted_tag([]))\nassert is_sorted(sorted_tag([4]))\nassert not is_sorted([3, 1, 2])\n\n\ndef promotable(state):\n    ls, i = state\n    return is_problem(ls[i]) and len(problem_list(ls[i])) == 1\n\n\ndef merge(left: List[int], right: List[int]) -> List[int]:\n    \"\"\"Merge two sorted lists.\"\"\"\n    result = []\n    i = j = 0\n    while i < len(left) and j < len(right):\n        if left[i] <= right[j]:\n            result.append(left[i])\n            i += 1\n        else:\n            result.append(right[j])\n            j += 1\n    result.extend(left[i:])\n    result.extend(right[j:])\n    return result\n\n\ndef strict(f: Callable) -> Callable:\n    \"\"\"Make function strict by evaluating its arguments.\"\"\"\n    return lambda *args: f(*args)\n\n\ndef promotable(state):\n    ls, i = state\n    return is_problem(ls[i]) and len(problem_list(ls[i])) == 1\n\n\ndef promote_transform(p):\n    return [\"s\"] + p[1:]\n\n\ndef promote_reduce(ls, i):\n    return list_graft(ls, i, i, [promote_transform(ls[i])])\n\n\ndef splittable(state):\n    ls, i = state\n    return is_problem(ls[i]) and len(ls[i]) > 2\n\n\ndef split_transform(p):\n    left, right = split_half(problem_list(p))\n    return [problem(left), problem(right), \"m\"]\n\n\ndef split_reduce(ls, i):\n    return list_graft(ls, i, i, split_transform(ls[i]))\n\n\ndef mergeable(state):\n    ls, i = state\n    if i < 2 or i >= len(ls):\n        return False\n    return ls[i] == \"m\" and is_sorted(ls[i - 1]) and is_sorted(ls[i - 2])\n\n\ndef merge_reduce(ls, i):\n    left = sorted_list(ls[i - 2])\n    right = sorted_list(ls[i - 1])\n    merged = sorted_tag(merge(left, right))\n    return ls[: i - 2] + [merged] + ls[i + 1 :]\n\n\ndef done(state):\n    ls, i = state\n    return i == 0 and len(ls) == 1 and is_sorted(ls[0])\n\n\ndef advanceable(state):\n    ls, i = state\n    return i < len(ls) and is_sorted(ls[i])\n\n\ndef bot() -> Any:\n    return []\n\n\ndef list_graft(lst: List[Any], start: int, end: int, repl: List[Any]) -> List[Any]:\n    \"\"\"Replace a slice of the list with another list.\"\"\"\n    return lst[:start] + repl + lst[end + 1 :]\n\n\ndef make_hash(pairs: List[Tuple[Any, Any]]) -> Dict[Any, Any]:\n    return dict(pairs)",
      "metadata": {
        "id": "2eHFYgeNwRvI",
        "trusted": true
      },
      "outputs": [],
      "execution_count": null
    },
    {
      "cell_type": "markdown",
      "source": "## Mapcode Style Mergesort",
      "metadata": {
        "id": "qWjyUwmQwjeA"
      }
    },
    {
      "cell_type": "code",
      "source": "def rho_mapcode(ls):\n    return [[problem(ls)], 0]\n\n\ndef F_mapcode(state):\n    ls, i = state\n    if done(state):\n        return state\n    if advanceable(state):\n        return [ls, i + 1]\n    if mergeable(state):\n        return [merge_reduce(ls, i), i - 2]\n    if splittable(state):\n        return [split_reduce(ls, i), i]\n    if promotable(state):\n        return [promote_reduce(ls, i), i]\n    return state\n\n\ndef pi_mapcode(state):\n    return state[0][0][1:]\n\n\nmergesort_mapcode = mapcode(rho_mapcode, F_mapcode, pi_mapcode)",
      "metadata": {
        "id": "0HuEaI6Kwm8W",
        "trusted": true
      },
      "outputs": [],
      "execution_count": null
    },
    {
      "cell_type": "markdown",
      "source": "## Recursive Mergesort via Fixed Points",
      "metadata": {
        "id": "Qm6HXQQqwoNm"
      }
    },
    {
      "cell_type": "code",
      "source": "def singleton(ls):\n    return isinstance(ls, list) and len(ls) == 1\n\n\ndef trivial(p):\n    return p == [] or singleton(p)\n\n\nsmerge = strict(merge)\n\n\ndef rho_H(ls):\n    return [[ls], {}]\n\n\ndef H_fn(state):\n    problems, fns = state\n    if not problems:\n        return state\n    problem, *tl = problems\n    if trivial(problem):\n        fns[tuple(problem)] = lambda x: problem\n        return [tl, fns]\n    left, right = split_half(problem)\n    fns[tuple(problem)] = lambda x: smerge(x[tuple(left)], x[tuple(right)])\n    return [[left, right] + tl, fns]\n\n\ndef pi_H(state):\n    return state[1]\n\n\ndef gen_fns(ls):\n    return mapcode(rho_H, H_fn, pi_H)(ls)\n\n\ndef apply_fns(\n    fns: Dict[Tuple[int], Callable], x: Dict[Tuple[int], List[int]]\n) -> Dict[Tuple[int], List[int]]:\n    return {k: fns[k](x) for k in x}\n\n\ndef bot_hash(keys: List[Tuple[int]]) -> Dict[Tuple[int], List[int]]:\n    return {k: bot() for k in keys}\n\n\ndef rho_next(fns):\n    return [lambda x: apply_fns(fns, x), bot_hash(list(fns.keys()))]\n\n\ndef next_fn(state):\n    G, x = state\n    return [G, G(x)]\n\n\ndef pi_next(state):\n    return state[1]\n\n\ndef mergesort_star(ls):\n    fns = gen_fns(ls)\n    return mapcode(rho_next, next_fn, pi_next)(fns)\n\n\ndef mergesort_rec_star(ls):\n    x_star = mergesort_star(ls)\n    return x_star[tuple(ls)]",
      "metadata": {
        "id": "2kaeTTbnwv6Q",
        "trusted": true
      },
      "outputs": [],
      "execution_count": null
    },
    {
      "cell_type": "code",
      "source": "def test_mergesort(mergesort_fn):\n    assert mergesort_fn([]) == []\n    assert mergesort_fn([3]) == [3]\n    assert mergesort_fn([1, 3]) == [1, 3]\n    assert mergesort_fn([3, 1]) == [1, 3]\n    assert mergesort_fn([1, 3, 2]) == [1, 2, 3]\n    assert mergesort_fn([3, 2, 1]) == [1, 2, 3]\n    assert mergesort_fn([3, 2, 1, 4]) == [1, 2, 3, 4]\n\n\nprint(\"Testing mergesort with mapcode...\", end=\" \")\ntest_mergesort(mergesort_mapcode)\nprint(\"done.\")\nprint(\"Testing mergesort with recursive star...\", end=\" \")\ntest_mergesort(mergesort_rec_star)\nprint(\"done.\")",
      "metadata": {
        "trusted": true
      },
      "outputs": [],
      "execution_count": null
    },
    {
      "cell_type": "code",
      "source": "",
      "metadata": {
        "trusted": true
      },
      "outputs": [],
      "execution_count": null
    }
  ]
}